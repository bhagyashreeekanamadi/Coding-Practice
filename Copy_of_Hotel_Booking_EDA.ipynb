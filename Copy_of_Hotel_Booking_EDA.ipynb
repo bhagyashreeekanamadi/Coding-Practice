{
  "nbformat": 4,
  "nbformat_minor": 0,
  "metadata": {
    "colab": {
      "private_outputs": true,
      "provenance": [],
      "collapsed_sections": [
        "gIfDvo9L0UH2"
      ],
      "include_colab_link": true
    },
    "kernelspec": {
      "name": "python3",
      "display_name": "Python 3"
    },
    "language_info": {
      "name": "python"
    }
  },
  "cells": [
    {
      "cell_type": "markdown",
      "metadata": {
        "id": "view-in-github",
        "colab_type": "text"
      },
      "source": [
        "<a href=\"https://colab.research.google.com/github/bhagyashreeekanamadi/Coding-Practice/blob/main/Copy_of_Hotel_Booking_EDA.ipynb\" target=\"_parent\"><img src=\"https://colab.research.google.com/assets/colab-badge.svg\" alt=\"Open In Colab\"/></a>"
      ]
    },
    {
      "cell_type": "markdown",
      "source": [
        "# **Project Name**    -\n",
        "\n"
      ],
      "metadata": {
        "id": "vncDsAP0Gaoa"
      }
    },
    {
      "cell_type": "markdown",
      "source": [
        "##### **Project Type**    - EDA/Regression/Classification/Unsupervised\n",
        "##### **Contribution**    - Individual\n"
      ],
      "metadata": {
        "id": "beRrZCGUAJYm"
      }
    },
    {
      "cell_type": "markdown",
      "source": [
        "# **Project Summary -**"
      ],
      "metadata": {
        "id": "FJNUwmbgGyua"
      }
    },
    {
      "cell_type": "markdown",
      "source": [
        "Write the summary here within 500-600 words."
      ],
      "metadata": {
        "id": "F6v_1wHtG2nS"
      }
    },
    {
      "cell_type": "markdown",
      "source": [
        "Almabetter Hotel Booking EDA Project Using Python || Hotel booking analysis with AlmaBetter EDA .This project relates to hotel reservations and Includes a variety of city hotels and resort hotels. There are 32 columns and a total of 119390 rows in this dataset. Data collection, data cleansing and manipulation, and EDA (experimental Data Analysis) are the three categories into which the workflow for data manipulation is divided. The names of some of the columns, including hotel, is_canceled, lead_time, arrival_date_year, arrival_date_month, arrival_date_week_number, arrival_date_day_of_month, and stays in weekend nights, have been updated as the data collection process has progressed. This is done by coding Head(), Tail(), info(), describe(), columns(), and other methods used for data collection. As we proceed, we Identify the distinct value for each column, create a list in tabular format, and also verify the dataset type for each column. Identify some columns with inaccurate data types and fix them afterward. As we discover duplicate items totaling 87396, which are later discarded from the dataset, duplicate data items must also be removed during the data cleaning phase.\n",
        "\n",
        "\n",
        "\n",
        "We must first perform data manipulation before visualizing any data from the data source. To do that, we examined each columnis null value. After checking, drop the column using the 'drop' method if we find one that has a greater percentage of null values. We are so removed from the \"company\" column. When there are only a few null values, we fill those null values with the necessary values using the formula fill()\n",
        "\n",
        "To achieve greater understanding and business goals, many charts are utilized for data visualization."
      ],
      "metadata": {
        "id": "leSYsHw7rgVE"
      }
    },
    {
      "cell_type": "markdown",
      "source": [
        "# **GitHub Link -**"
      ],
      "metadata": {
        "id": "w6K7xa23Elo4"
      }
    },
    {
      "cell_type": "markdown",
      "source": [
        "Provide your GitHub Link here."
      ],
      "metadata": {
        "id": "h1o69JH3Eqqn"
      }
    },
    {
      "cell_type": "markdown",
      "source": [
        "# **Problem Statement**\n"
      ],
      "metadata": {
        "id": "yQaldy8SH6Dl"
      }
    },
    {
      "cell_type": "markdown",
      "source": [
        "**Write Problem Statement Here.**"
      ],
      "metadata": {
        "id": "DpeJGUA3kjGy"
      }
    },
    {
      "cell_type": "markdown",
      "source": [
        "Have you ever thought the ideal season of the year to reserve a hotel room? Alternatively, how long should I remain to get the greatest daily rate? What if you wanted to foretell whether a hotel would unreasonably frequently receive unusual requests? You can investigate those questions using the data from hotel reservations! This data collection comprises reservation details for a city hotel and a resort hotel, as well as details like the date the reservation was made, the duration of the stay, the number of adults, kids, and/or babies, and the number of parking spaces that are available. The data is devoid of any information that may be used to identify a specific person. Investigate and evaluate the Information to find crucial elements that control reservations."
      ],
      "metadata": {
        "id": "1Sbo0haXr9u0"
      }
    },
    {
      "cell_type": "markdown",
      "source": [
        "#### **Define Your Business Objective?**"
      ],
      "metadata": {
        "id": "PH-0ReGfmX4f"
      }
    },
    {
      "cell_type": "markdown",
      "source": [
        "Analyse the reservation data for the City Hotel and Resort Hotel to leam more about the various elements that influence a reservation. This is being done as a solo project."
      ],
      "metadata": {
        "id": "PhDvGCAqmjP1"
      }
    },
    {
      "cell_type": "markdown",
      "source": [
        "# **General Guidelines** : -  "
      ],
      "metadata": {
        "id": "mDgbUHAGgjLW"
      }
    },
    {
      "cell_type": "markdown",
      "source": [
        "1.   Well-structured, formatted, and commented code is required.\n",
        "2.   Exception Handling, Production Grade Code & Deployment Ready Code will be a plus. Those students will be awarded some additional credits.\n",
        "     \n",
        "     The additional credits will have advantages over other students during Star Student selection.\n",
        "       \n",
        "             [ Note: - Deployment Ready Code is defined as, the whole .ipynb notebook should be executable in one go\n",
        "                       without a single error logged. ]\n",
        "\n",
        "3.   Each and every logic should have proper comments.\n",
        "4. You may add as many number of charts you want. Make Sure for each and every chart the following format should be answered.\n",
        "        \n",
        "\n",
        "```\n",
        "# Chart visualization code\n",
        "```\n",
        "            \n",
        "\n",
        "*   Why did you pick the specific chart?\n",
        "*   What is/are the insight(s) found from the chart?\n",
        "* Will the gained insights help creating a positive business impact?\n",
        "Are there any insights that lead to negative growth? Justify with specific reason.\n",
        "\n",
        "5. You have to create at least 20 logical & meaningful charts having important insights.\n",
        "\n",
        "\n",
        "[ Hints : - Do the Vizualization in  a structured way while following \"UBM\" Rule.\n",
        "\n",
        "U - Univariate Analysis,\n",
        "\n",
        "B - Bivariate Analysis (Numerical - Categorical, Numerical - Numerical, Categorical - Categorical)\n",
        "\n",
        "M - Multivariate Analysis\n",
        " ]\n",
        "\n",
        "\n",
        "\n"
      ],
      "metadata": {
        "id": "ZrxVaUj-hHfC"
      }
    },
    {
      "cell_type": "markdown",
      "source": [
        "# ***Let's Begin !***"
      ],
      "metadata": {
        "id": "O_i_v8NEhb9l"
      }
    },
    {
      "cell_type": "markdown",
      "source": [
        "## ***1. Know Your Data***"
      ],
      "metadata": {
        "id": "HhfV-JJviCcP"
      }
    },
    {
      "cell_type": "markdown",
      "source": [
        "### Import Libraries"
      ],
      "metadata": {
        "id": "Y3lxredqlCYt"
      }
    },
    {
      "cell_type": "code",
      "source": [
        "# Import Libraries\n",
        "import numpy as np\n",
        "import pandas as pd\n",
        "import matplotlib.pyplot as plt\n",
        "%matplotlib inline\n",
        "import seaborn as sns"
      ],
      "metadata": {
        "id": "M8Vqi-pPk-HR"
      },
      "execution_count": null,
      "outputs": []
    },
    {
      "cell_type": "code",
      "source": [
        "from datetime import datetime\n",
        "import ast"
      ],
      "metadata": {
        "id": "cIma8Aapm4_A"
      },
      "execution_count": null,
      "outputs": []
    },
    {
      "cell_type": "markdown",
      "source": [
        "### Dataset Loading"
      ],
      "metadata": {
        "id": "3RnN4peoiCZX"
      }
    },
    {
      "cell_type": "code",
      "source": [
        "# Load Dataset\n",
        "from google.colab import drive\n",
        "drive.mount('/content/drive')\n",
        "database='/content/Hotel Bookings.csv'\n",
        "hotel_booking_df=pd.read_csv(database)"
      ],
      "metadata": {
        "id": "4CkvbW_SlZ_R"
      },
      "execution_count": null,
      "outputs": []
    },
    {
      "cell_type": "markdown",
      "source": [
        "### Dataset First View"
      ],
      "metadata": {
        "id": "x71ZqKXriCWQ"
      }
    },
    {
      "cell_type": "code",
      "source": [
        "# Dataset First Look\n",
        "hotel_booking_df"
      ],
      "metadata": {
        "id": "LWNFOSvLl09H"
      },
      "execution_count": null,
      "outputs": []
    },
    {
      "cell_type": "markdown",
      "source": [
        "### Dataset Rows & Columns count"
      ],
      "metadata": {
        "id": "7hBIi_osiCS2"
      }
    },
    {
      "cell_type": "code",
      "source": [
        "# Dataset Rows & Columns count\n",
        "print(hotel_booking_df.index)\n",
        "print('\\n\\n')\n",
        "print(hotel_booking_df.columns)"
      ],
      "metadata": {
        "id": "Kllu7SJgmLij"
      },
      "execution_count": null,
      "outputs": []
    },
    {
      "cell_type": "markdown",
      "source": [
        "### Dataset Information"
      ],
      "metadata": {
        "id": "JlHwYmJAmNHm"
      }
    },
    {
      "cell_type": "code",
      "source": [
        "# Dataset Info\n",
        "hotel_booking_df.info()"
      ],
      "metadata": {
        "id": "e9hRXRi6meOf"
      },
      "execution_count": null,
      "outputs": []
    },
    {
      "cell_type": "markdown",
      "source": [
        "#### Duplicate Values"
      ],
      "metadata": {
        "id": "35m5QtbWiB9F"
      }
    },
    {
      "cell_type": "code",
      "source": [
        "# Dataset Duplicate Value Count\n",
        "hotel_booking_df.drop_duplicates(inplace=True)\n",
        "#unique rows\n",
        "uni_num_of_rows=hotel_booking_df.shape[0]\n",
        "print(uni_num_of_rows)"
      ],
      "metadata": {
        "id": "1sLdpKYkmox0"
      },
      "execution_count": null,
      "outputs": []
    },
    {
      "cell_type": "code",
      "source": [
        "#Viewing unique values\n",
        "hotel_booking_df.reset_index()"
      ],
      "metadata": {
        "id": "GXbRXc-Nn9FP"
      },
      "execution_count": null,
      "outputs": []
    },
    {
      "cell_type": "markdown",
      "source": [
        "#### Missing Values/Null Values"
      ],
      "metadata": {
        "id": "PoPl-ycgm1ru"
      }
    },
    {
      "cell_type": "code",
      "source": [
        "# Missing Values/Null Values Count\n",
        "null_value=hotel_booking_df.isnull()==True\n",
        "#Replacing all null values with NaN\n",
        "hotel_booking_df.fillna(np.nan,inplace=True)\n",
        "\n",
        "hotel_booking_df\n"
      ],
      "metadata": {
        "id": "GgHWkxvamxVg"
      },
      "execution_count": null,
      "outputs": []
    },
    {
      "cell_type": "code",
      "source": [
        "# Visualizing the missing values\n",
        "miss_values=hotel_booking_df.isnull().sum().sort_values(ascending=False)\n",
        "#Chacking count of null value in individual columns\n",
        "miss_values"
      ],
      "metadata": {
        "id": "3q5wnI3om9sJ"
      },
      "execution_count": null,
      "outputs": []
    },
    {
      "cell_type": "markdown",
      "source": [
        "### What did you know about your dataset?"
      ],
      "metadata": {
        "id": "H0kj-8xxnORC"
      }
    },
    {
      "cell_type": "markdown",
      "source": [
        "A single file in this data collection analyses different booking details between two hotels: a city hotel and a resort hotel. Includes details like the date the reservation was made, the number of people staying, the number of adults, kids, and/or babies, and the number of parking spaces available, among other things. There are 32 columns and 119390 rows in the entire dataset. Dataset contains duplicate items, such as 31944, which is later removed. Every column in this dataset has a data type, such as an integer, a float, or a text. We note that some of these data types are inaccurate and eliminate those columns afterward. We calculate the distinct value for each column, which represents the actual values for each column."
      ],
      "metadata": {
        "id": "gfoNAAC-nUe_"
      }
    },
    {
      "cell_type": "markdown",
      "source": [
        "## ***2. Understanding Your Variables***"
      ],
      "metadata": {
        "id": "nA9Y7ga8ng1Z"
      }
    },
    {
      "cell_type": "code",
      "source": [
        "# Dataset Columns\n",
        "df_column=hotel_booking_df.columns\n",
        "df_column"
      ],
      "metadata": {
        "id": "j7xfkqrt5Ag5"
      },
      "execution_count": null,
      "outputs": []
    },
    {
      "cell_type": "code",
      "source": [
        "# Dataset Describe\n",
        "hotel_booking_df.describe()"
      ],
      "metadata": {
        "id": "DnOaZdaE5Q5t"
      },
      "execution_count": null,
      "outputs": []
    },
    {
      "cell_type": "markdown",
      "source": [
        "### Variables Description"
      ],
      "metadata": {
        "id": "PBTbrJXOngz2"
      }
    },
    {
      "cell_type": "markdown",
      "source": [
        "1. hotel: Type of hotel(City or Resort)\n",
        "2. is_cancelled: If the booking was cancelled(1) or not(0)\n",
        "3. lead_time: Number of days before the actual arrival of the guests\n",
        "4. arrival_date_year: Year of arrival date\n",
        "5. arrival_date_month: Month of arrival date\n",
        "6. arrival_date_week_number: Week number of year for arrival date\n",
        "7. arrival_date_day_of_month: Day of arrival date\n",
        "8. stays_in_weekend_nights: Number of weekend nights(Saturday or Sunday) spent at the hotel by the guests.\n",
        "9. stays_in_week_nights: Number of weeknights(Monday to Friday) spent at the hotel by the guests.\n",
        "10. adults: Number of adults among the guests\n",
        "11. children: Number of children\n",
        "12. babies: Number of babies\n",
        "13. meal: Type of meal booked\n",
        "14. country: country of the guests\n",
        "15. market_segment: Designation of market segment\n",
        "16. distribution_channel: Name of booking distribution channel\n",
        "17. is_repeated_guest: If the booking was from a repeated guest(1) or not(0)\n",
        "18. previous_cancellation: Number of previous bookings that were cancelled by the customer prior to the current booking\n",
        "19. previous_bookings_not_cancelled: Number of previous bookins not cancelled by the customer prior to the current booking\n",
        "20. reserved_room_type: Code from room type reserved\n",
        "21. assigned_room_type: Code of room type assigned\n",
        "22. booking_changes: Number of changes made to the booking\n",
        "23. deposit_type: Type of deposite made by the guest\n",
        "24. agent: ID of travel agent who made the booking\n",
        "25. company: ID of the company that made the booking\n",
        "26. days_in_waiting_list: Number of the days the booking was in the waiting list\n",
        "27. customer_type: Type of customer, assuming one of four categories\n",
        "28. adr: Average daily rate\n",
        "29. required_car_parking_spaces: Number of car parking spaces required bt the customer\n",
        "30. total_of_special_requests: Number of special requests made by the customer\n",
        "31. reservation_statuse: Reservation status(Canceled, check-out or no-show)\n",
        "32. reservation_status_date: Date at which the last reservation status was updated"
      ],
      "metadata": {
        "id": "aJV4KIxSnxay"
      }
    },
    {
      "cell_type": "markdown",
      "source": [
        "### Check Unique Values for each variable."
      ],
      "metadata": {
        "id": "u3PMJOP6ngxN"
      }
    },
    {
      "cell_type": "code",
      "source": [
        "# Check Unique Values for each variable.\n",
        "#Describing unique values in all individual column\n",
        "print(hotel_booking_df.apply(lambda col: col.unique()))"
      ],
      "metadata": {
        "id": "zms12Yq5n-jE"
      },
      "execution_count": null,
      "outputs": []
    },
    {
      "cell_type": "markdown",
      "source": [
        "## 3. ***Data Wrangling***"
      ],
      "metadata": {
        "id": "dauF4eBmngu3"
      }
    },
    {
      "cell_type": "markdown",
      "source": [
        "### Data Wrangling Code"
      ],
      "metadata": {
        "id": "bKJF3rekwFvQ"
      }
    },
    {
      "cell_type": "code",
      "source": [
        "# Write your code to make your dataset analysis ready.\n",
        "#checking the percentage of null value in each column,staring from company\n",
        "percentage_company_null=miss_values[0]/uni_num_of_rows*100\n",
        "print(percentage_company_null)"
      ],
      "metadata": {
        "id": "wk-9a2fpoLcV"
      },
      "execution_count": null,
      "outputs": []
    },
    {
      "cell_type": "code",
      "source": [
        "#To fill Nan value in column,lets check  which columns has null value, we have already stored the same\n",
        "miss_values[:5]"
      ],
      "metadata": {
        "id": "x3zygeuSrtBT"
      },
      "execution_count": null,
      "outputs": []
    },
    {
      "cell_type": "code",
      "source": [
        "#Lets drop company column as the number of missing values is extremely high compared to number of rows\n",
        "hotel_booking_df.drop(['company'],axis=1,inplace=True)"
      ],
      "metadata": {
        "id": "Pplu08LvsJNb"
      },
      "execution_count": null,
      "outputs": []
    },
    {
      "cell_type": "code",
      "source": [
        "#checking the percentage of null value in agent column\n",
        "percentage_agent_null=miss_values[1]/uni_num_of_rows*100\n",
        "print(percentage_agent_null)"
      ],
      "metadata": {
        "id": "VSe2sQXIspLq"
      },
      "execution_count": null,
      "outputs": []
    },
    {
      "cell_type": "code",
      "source": [
        "#There is minimal null values in agent,lets fill these values by taking mode of all values\n",
        "hotel_booking_df['agent'].fillna(value=0,inplace=True)\n",
        "#Rechecking the column having no null value\n",
        "hotel_booking_df['agent'].isnull().sum()"
      ],
      "metadata": {
        "id": "oHJKvMSBs1nq"
      },
      "execution_count": null,
      "outputs": []
    },
    {
      "cell_type": "code",
      "source": [
        "#checking the percentage of null value in country column\n",
        "percentage_country_null=miss_values[2]/uni_num_of_rows*100\n",
        "print(percentage_country_null)"
      ],
      "metadata": {
        "id": "INXEswG6tLhT"
      },
      "execution_count": null,
      "outputs": []
    },
    {
      "cell_type": "code",
      "source": [
        "#We have less null values in country column,so we will replace null from 'other' as country name\n",
        "hotel_booking_df['country'].fillna(value='others',inplace=True)\n",
        "#Rechecking the column having no null value\n",
        "hotel_booking_df['country'].isnull().sum()"
      ],
      "metadata": {
        "id": "SaxAm2r-tVwx"
      },
      "execution_count": null,
      "outputs": []
    },
    {
      "cell_type": "code",
      "source": [
        "#checking the percentage of null value in Children column\n",
        "percentage_children_null=miss_values[3]/uni_num_of_rows*100\n",
        "print(percentage_children_null)"
      ],
      "metadata": {
        "id": "GwceJEM1tjC0"
      },
      "execution_count": null,
      "outputs": []
    },
    {
      "cell_type": "code",
      "source": [
        "#Checking if database has any other null value\n",
        "hotel_booking_df.isnull().sum()"
      ],
      "metadata": {
        "id": "HcrjCrYvtquk"
      },
      "execution_count": null,
      "outputs": []
    },
    {
      "cell_type": "code",
      "source": [
        "#Change in datatype for required columns\n",
        "#Showing the info of data to check datatype\n",
        "hotel_booking_df.info()"
      ],
      "metadata": {
        "id": "jEjOL3ELt7Jn"
      },
      "execution_count": null,
      "outputs": []
    },
    {
      "cell_type": "code",
      "source": [
        "#Total stays in nights\n",
        "hotel_booking_df['total_stay_in_nights']=hotel_booking_df['stays_in_weekend_nights']+hotel_booking_df['stays_in_week_nights']\n",
        "hotel_booking_df['total_stay_in_nights']"
      ],
      "metadata": {
        "id": "Ft8hwA6Iuh8F"
      },
      "execution_count": null,
      "outputs": []
    },
    {
      "cell_type": "code",
      "source": [
        "#Total Revenue\n",
        "hotel_booking_df['revenue']=hotel_booking_df['adr']*hotel_booking_df['total_stay_in_nights']\n",
        "hotel_booking_df['revenue']"
      ],
      "metadata": {
        "id": "LVvQ4ddGvBb9"
      },
      "execution_count": null,
      "outputs": []
    },
    {
      "cell_type": "code",
      "source": [
        "#Total guest coming for each booking\n",
        "hotel_booking_df['total_guest']=hotel_booking_df['adults']+hotel_booking_df['children']+hotel_booking_df['babies']\n",
        "hotel_booking_df['total_guest'].sum()\n"
      ],
      "metadata": {
        "id": "9ydjgjnmvYgG"
      },
      "execution_count": null,
      "outputs": []
    },
    {
      "cell_type": "code",
      "source": [
        "#From column 'is_canceled': we will replace the value from (0,1) to not_canceled, is canceled\n",
        "hotel_booking_df['is_canceled']=hotel_booking_df['is_canceled'].replace([0,1],['not_canceled','is_canceled'])\n",
        "hotel_booking_df['is_canceled']"
      ],
      "metadata": {
        "id": "QCSA5pU9vmAH"
      },
      "execution_count": null,
      "outputs": []
    },
    {
      "cell_type": "code",
      "source": [
        "#From column 'is_repeated_guest: we will replace the value from (0,1) to not_repeated, is repeated\n",
        "hotel_booking_df['is_repeated_guest']=hotel_booking_df['is_repeated_guest'].replace([0,1],['not_repeated','is_repeated'])\n",
        "hotel_booking_df['is_repeated_guest']\n"
      ],
      "metadata": {
        "id": "BjGSXlAvwI1K"
      },
      "execution_count": null,
      "outputs": []
    },
    {
      "cell_type": "code",
      "source": [
        "#Checking overall revenue hotel-wise\n",
        "hotel_wise_total_revenue=hotel_booking_df.groupby('hotel')['revenue'].sum()\n",
        "hotel_wise_total_revenue"
      ],
      "metadata": {
        "id": "q7-i0c6nwZoe"
      },
      "execution_count": null,
      "outputs": []
    },
    {
      "cell_type": "code",
      "source": [
        "hotel_booking_df[['hotel','revenue']]"
      ],
      "metadata": {
        "id": "QS_gAViHwnlD"
      },
      "execution_count": null,
      "outputs": []
    },
    {
      "cell_type": "markdown",
      "source": [
        "### What all manipulations have you done and insights you found?"
      ],
      "metadata": {
        "id": "MSa1f5Uengrz"
      }
    },
    {
      "cell_type": "markdown",
      "source": [
        "We only made a few changes to the data.\n",
        "\n",
        "Columns added\n",
        "\n",
        "We have seen that a few columns are needed in the data for analytical purposes, and these columns can be evaluated.\n",
        "\n",
        "a) Number of Guests: We may assess the overall number of guests and Income by using these columns. This value is obtained by summing the total number of adults, children, and infants.\n",
        "\n",
        "b) Income: ADR and total guests are multiplied to find revenue. This column will be used to examine each hotel's growth and profitability.\n",
        "\n",
        "----Columns deleted -----\n",
        "\n",
        "a)company: As we can see, this column almost has no data. As a result, we had to eliminate this column because it had no bearing on the analysis.\n",
        "\n",
        "Replace values in columns by\n",
        "\n",
        "is cancelled, isn't cancelled, and is a repeat visitor. As we've seen, these columns only hold the value of 0,1 to indicate that the boycott is now being cancelled. These values (0.1) from \"Cancelled\" & \"Not cancelled\" are changed. The same procedure is used to change 0,1 from \"Repeated\" and \"Not repeated\" in the column \"is_repeated_guest\". These values will now facilitate greater comprehension during visualisation.\n",
        "\n",
        "---Changes to the values' data types in columns ---\n",
        "\n",
        "a) Agent & Kids: We verified that these columns contain float values, which don't make sense in the data because they represent the guest count and agent ID. Therefore, we have updated the 'float' data type of these columns to \"Integer.\n",
        "\n",
        "---Removed duplicate entries and is_null values ---\n",
        "\n",
        "a) Data wrangling must be done before any data from the data set can be visualised.\n",
        "\n",
        "Data wrangling must be done before any data from the data set can be visualised. We have examined each columni's null value in order to determine that. After checking, drop the column using the 'drop' method if we find one that has a greater percentage of null values. We are so removed from the \"company\" column. When there are only a few null values, we fill those null values with the necessary values using the fillna function.\n",
        "\n",
        "b) in the same, we looked to see whether there was any data duplication and discovered that a few rows had duplicate data. As a result, we used the drop_duplicates() method to delete those rows from the data set.\n",
        "\n",
        "By doing this, we have eliminated any unnecessary data."
      ],
      "metadata": {
        "id": "LbyXE7I1olp8"
      }
    },
    {
      "cell_type": "markdown",
      "source": [
        "## ***4. Data Vizualization, Storytelling & Experimenting with charts : Understand the relationships between variables***"
      ],
      "metadata": {
        "id": "GF8Ens_Soomf"
      }
    },
    {
      "cell_type": "markdown",
      "source": [
        "#### Chart - 1"
      ],
      "metadata": {
        "id": "0wOQAZs5pc--"
      }
    },
    {
      "cell_type": "code",
      "source": [
        "# Chart - 1 visualization code\n",
        "def get_count_from_column(df,column_label):\n",
        "  df_grpd=df[column_label].value_counts()\n",
        "  df_grpd=pd.DataFrame({'index':df_grpd.index,'count':df_grpd.values})\n",
        "  return df_grpd\n",
        "\n",
        "def plot_pie_chart_from_column(df,column_label,t1,exp):\n",
        "  df_grpd=get_count_from_column(df,column_label)\n",
        "  fig,ax=plt.subplots(figsize=(14,6))\n",
        "  ax.pie(df_grpd.loc[:,'count'],labels=df_grpd.loc[:,'index'],autopct='%1.2f%%',startangle=90,labeldistance=1.2,explode=exp)\n",
        "  plt.title(t1,bbox={'facecolor':'0.8','pad':3})\n",
        "  ax.axis('equal')\n",
        "  plt.legend()\n",
        "  plt.show()\n"
      ],
      "metadata": {
        "id": "7v_ESjsspbW7"
      },
      "execution_count": null,
      "outputs": []
    },
    {
      "cell_type": "code",
      "source": [
        "exp1=[0.05,0.05]\n",
        "plot_pie_chart_from_column(hotel_booking_df,'hotel','Booking Percentage of Hotel by Name',exp1)"
      ],
      "metadata": {
        "id": "B4u88luzyIpn"
      },
      "execution_count": null,
      "outputs": []
    },
    {
      "cell_type": "markdown",
      "source": [
        "##### 1. Why did you pick the specific chart?"
      ],
      "metadata": {
        "id": "K5QZ13OEpz2H"
      }
    },
    {
      "cell_type": "markdown",
      "source": [
        "To present the data that in which hotel more booking have been done."
      ],
      "metadata": {
        "id": "XESiWehPqBRc"
      }
    },
    {
      "cell_type": "markdown",
      "source": [
        "##### 2. What is/are the insight(s) found from the chart?"
      ],
      "metadata": {
        "id": "lQ7QKXXCp7Bj"
      }
    },
    {
      "cell_type": "markdown",
      "source": [
        "Here, we found that the booking number is higher in City hotel which is 61.13% then Resort hotel which is 38.87%.Hence we can say that city hotel has more consumption"
      ],
      "metadata": {
        "id": "C_j1G7yiqdRP"
      }
    },
    {
      "cell_type": "markdown",
      "source": [
        "##### 3. Will the gained insights help creating a positive business impact?\n",
        "Are there any insights that lead to negative growth? Justify with specific reason."
      ],
      "metadata": {
        "id": "448CDAPjqfQr"
      }
    },
    {
      "cell_type": "markdown",
      "source": [
        "Yes,for both Hotels this data making some positive business impact:-\n",
        "\n",
        "City Hotel:- Provided more service to attract more guest to increase more revenue\n",
        "\n",
        "Resort Hotel:- Find solution to attract guest and find what city hotel did to attract guest"
      ],
      "metadata": {
        "id": "3cspy4FjqxJW"
      }
    },
    {
      "cell_type": "markdown",
      "source": [
        "#### Chart - 2"
      ],
      "metadata": {
        "id": "KSlN3yHqYklG"
      }
    },
    {
      "cell_type": "code",
      "source": [
        "# Chart - 2 visualization code\n",
        "exp4=[0,0.1]\n",
        "plot_pie_chart_from_column(hotel_booking_df,'is_canceled','Cancellation volume of Hotel',exp4)"
      ],
      "metadata": {
        "id": "R4YgtaqtYklH"
      },
      "execution_count": null,
      "outputs": []
    },
    {
      "cell_type": "markdown",
      "source": [
        "##### 1. Why did you pick the specific chart?"
      ],
      "metadata": {
        "id": "t6dVpIINYklI"
      }
    },
    {
      "cell_type": "markdown",
      "source": [
        "In this chart, we presented the cancellation rate of the hotels booking"
      ],
      "metadata": {
        "id": "5aaW0BYyYklI"
      }
    },
    {
      "cell_type": "markdown",
      "source": [
        "##### 2. What is/are the insight(s) found from the chart?"
      ],
      "metadata": {
        "id": "ijmpgYnKYklI"
      }
    },
    {
      "cell_type": "markdown",
      "source": [
        "Here, we found that overall more than 25% of booking got cancelled"
      ],
      "metadata": {
        "id": "PSx9atu2YklI"
      }
    },
    {
      "cell_type": "markdown",
      "source": [
        "##### 3. Will the gained insights help creating a positive business impact?\n",
        "Are there any insights that lead to negative growth? Justify with specific reason."
      ],
      "metadata": {
        "id": "-JiQyfWJYklI"
      }
    },
    {
      "cell_type": "markdown",
      "source": [
        "Here, we can see that more than 27% booking got cancelled.\n",
        "\n",
        "Solution:- We can check the reason for cancellation of booking and need to get this sort on buisness level"
      ],
      "metadata": {
        "id": "BcBbebzrYklV"
      }
    },
    {
      "cell_type": "markdown",
      "source": [
        "#### Chart - 3"
      ],
      "metadata": {
        "id": "EM7whBJCYoAo"
      }
    },
    {
      "cell_type": "code",
      "source": [
        "# Chart - 3 visualization code\n",
        "def get_count_from_column_bar(df,column_label):\n",
        "  df_grpd=df[column_label].value_counts()\n",
        "  df_grpd=pd.DataFrame({'index':df_grpd.index,'count':df_grpd.values})\n",
        "  return df_grpd\n",
        "\n",
        "def plot_bar_chart_from_column(df,column_lable,t1):\n",
        "  df_grpd=get_count_from_column_bar(df,column_lable)\n",
        "  fig,ax=plt.subplots(figsize=(14,6))\n",
        "  c=['g','r','b','c','y']\n",
        "  ax.bar(df_grpd['index'],df_grpd['count'],width=0.4,align='edge',edgecolor='black',linewidth=4,color=c,linestyle=':',alpha=0.5)\n",
        "  plt.title(t1,bbox={'facecolor':'0.8','pad':3})\n",
        "  plt.legend()\n",
        "  plt.ylabel('Count')\n",
        "  plt.xticks(rotation=15)\n",
        "  plt.show()\n",
        "\n",
        "\n",
        "plot_bar_chart_from_column(hotel_booking_df,'distribution_channel','Distribution Channel Volume')"
      ],
      "metadata": {
        "id": "t6GMdE67YoAp"
      },
      "execution_count": null,
      "outputs": []
    },
    {
      "cell_type": "markdown",
      "source": [
        "##### 1. Why did you pick the specific chart?"
      ],
      "metadata": {
        "id": "fge-S5ZAYoAp"
      }
    },
    {
      "cell_type": "markdown",
      "source": [
        "The following chart represent maximum volume of booking done through which channnel to represent th enumbers in descending order we choose bar graph"
      ],
      "metadata": {
        "id": "5dBItgRVYoAp"
      }
    },
    {
      "cell_type": "markdown",
      "source": [
        "##### 2. What is/are the insight(s) found from the chart?"
      ],
      "metadata": {
        "id": "85gYPyotYoAp"
      }
    },
    {
      "cell_type": "markdown",
      "source": [
        "As clearly seen TA/TO(Tour of Agent and Tour of Operator)is highest, recommending to continue booking through TA/TO"
      ],
      "metadata": {
        "id": "4jstXR6OYoAp"
      }
    },
    {
      "cell_type": "markdown",
      "source": [
        "##### 3. Will the gained insights help creating a positive business impact?\n",
        "Are there any insights that lead to negative growth? Justify with specific reason."
      ],
      "metadata": {
        "id": "RoGjAbkUYoAp"
      }
    },
    {
      "cell_type": "markdown",
      "source": [
        "Yes this positive buisness impact\n",
        "Higher the number of TA/TO will help to increase the revenue generation of Hotel"
      ],
      "metadata": {
        "id": "zfJ8IqMcYoAp"
      }
    },
    {
      "cell_type": "markdown",
      "source": [
        "#### Chart - 4"
      ],
      "metadata": {
        "id": "4Of9eVA-YrdM"
      }
    },
    {
      "cell_type": "code",
      "source": [
        "# Chart - 4 visualization code\n",
        "exp2=[0.2,0,0,0,0,0,0,0,0,0,0,0]\n",
        "plot_pie_chart_from_column(hotel_booking_df,'arrival_date_month','Month-wise Booking',exp2)"
      ],
      "metadata": {
        "id": "irlUoxc8YrdO"
      },
      "execution_count": null,
      "outputs": []
    },
    {
      "cell_type": "markdown",
      "source": [
        "##### 1. Why did you pick the specific chart?"
      ],
      "metadata": {
        "id": "iky9q4vBYrdO"
      }
    },
    {
      "cell_type": "markdown",
      "source": [
        "To show percentage share of booking in each month,on overall level"
      ],
      "metadata": {
        "id": "aJRCwT6DYrdO"
      }
    },
    {
      "cell_type": "markdown",
      "source": [
        "##### 2. What is/are the insight(s) found from the chart?"
      ],
      "metadata": {
        "id": "F6T5p64dYrdO"
      }
    },
    {
      "cell_type": "markdown",
      "source": [
        "The above percentage shows month May,July and August are highest booking months due to holiday season.Recommending aggressive advertisement to lure more and more customers"
      ],
      "metadata": {
        "id": "Xx8WAJvtYrdO"
      }
    },
    {
      "cell_type": "markdown",
      "source": [
        "##### 3. Will the gained insights help creating a positive business impact?\n",
        "Are there any insights that lead to negative growth? Justify with specific reason."
      ],
      "metadata": {
        "id": "y-Ehk30pYrdP"
      }
    },
    {
      "cell_type": "markdown",
      "source": [
        "Yes, with increased volume of visitors will hwlp hotel to manage revenue in down time, will also help employee statisfaction and retention"
      ],
      "metadata": {
        "id": "jLNxxz7MYrdP"
      }
    },
    {
      "cell_type": "markdown",
      "source": [
        "#### Chart - 5"
      ],
      "metadata": {
        "id": "bamQiAODYuh1"
      }
    },
    {
      "cell_type": "code",
      "source": [
        "# Chart - 5 visualization code\n",
        "exp3=[0,0.2]\n",
        "plot_pie_chart_from_column(hotel_booking_df,'is_repeated_guest','Guest Repeating Status',exp3)"
      ],
      "metadata": {
        "id": "TIJwrbroYuh3"
      },
      "execution_count": null,
      "outputs": []
    },
    {
      "cell_type": "markdown",
      "source": [
        "##### 1. Why did you pick the specific chart?"
      ],
      "metadata": {
        "id": "QHF8YVU7Yuh3"
      }
    },
    {
      "cell_type": "markdown",
      "source": [
        "To show the percentage share of repeated and non-repeated guests."
      ],
      "metadata": {
        "id": "dcxuIMRPYuh3"
      }
    },
    {
      "cell_type": "markdown",
      "source": [
        "##### 2. What is/are the insight(s) found from the chart?"
      ],
      "metadata": {
        "id": "GwzvFGzlYuh3"
      }
    },
    {
      "cell_type": "markdown",
      "source": [
        "Here, we see that the number of repeated guests is very less compared to overall guests."
      ],
      "metadata": {
        "id": "uyqkiB8YYuh3"
      }
    },
    {
      "cell_type": "markdown",
      "source": [
        "##### 3. Will the gained insights help creating a positive business impact?\n",
        "Are there any insights that lead to negative growth? Justify with specific reason."
      ],
      "metadata": {
        "id": "qYpmQ266Yuh3"
      }
    },
    {
      "cell_type": "markdown",
      "source": [
        "We can give alluring offers to non-repeating customers during off seasons to enhance revenue"
      ],
      "metadata": {
        "id": "_WtzZ_hCYuh4"
      }
    },
    {
      "cell_type": "markdown",
      "source": [
        "#### Chart - 6"
      ],
      "metadata": {
        "id": "OH-pJp9IphqM"
      }
    },
    {
      "cell_type": "code",
      "source": [
        "# Chart - 6 visualization code\n",
        "plot_bar_chart_from_column(hotel_booking_df,'assigned_room_type','Assignment of Room type')"
      ],
      "metadata": {
        "id": "kuRf4wtuphqN"
      },
      "execution_count": null,
      "outputs": []
    },
    {
      "cell_type": "markdown",
      "source": [
        "##### 1. Why did you pick the specific chart?"
      ],
      "metadata": {
        "id": "bbFf2-_FphqN"
      }
    },
    {
      "cell_type": "markdown",
      "source": [
        "To show distribution by volume, which room is alloted."
      ],
      "metadata": {
        "id": "loh7H2nzphqN"
      }
    },
    {
      "cell_type": "markdown",
      "source": [
        "##### 2. What is/are the insight(s) found from the chart?"
      ],
      "metadata": {
        "id": "_ouA3fa0phqN"
      }
    },
    {
      "cell_type": "markdown",
      "source": [
        "This chart shows room type 'A' is most preferred by guest"
      ],
      "metadata": {
        "id": "VECbqPI7phqN"
      }
    },
    {
      "cell_type": "markdown",
      "source": [
        "##### 3. Will the gained insights help creating a positive business impact?\n",
        "Are there any insights that lead to negative growth? Justify with specific reason."
      ],
      "metadata": {
        "id": "Seke61FWphqN"
      }
    },
    {
      "cell_type": "markdown",
      "source": [
        "Yes,positive impact because 'A','D','E' is most preferred by guest due to better service offered in room type."
      ],
      "metadata": {
        "id": "DW4_bGpfphqN"
      }
    },
    {
      "cell_type": "markdown",
      "source": [
        "#### Chart - 7"
      ],
      "metadata": {
        "id": "PIIx-8_IphqN"
      }
    },
    {
      "cell_type": "code",
      "source": [
        "# Chart - 7 visualization code\n",
        "market_segment_df=pd.DataFrame(hotel_booking_df['market_segment'])\n",
        "market_segment_df_data=market_segment_df.groupby('market_segment')['market_segment'].count()\n",
        "market_segment_df_data.sort_values( ascending=False, inplace=True)\n",
        "plt.figure(figsize=(15,6))\n",
        "y=np.array([4,5,6])\n",
        "market_segment_df_data.plot(kind='bar',color=['r','g','y','b','pink','black','brown'],fontsize=20,legend='True')\n"
      ],
      "metadata": {
        "id": "lqAIGUfyphqO"
      },
      "execution_count": null,
      "outputs": []
    },
    {
      "cell_type": "markdown",
      "source": [
        "##### 1. Why did you pick the specific chart?"
      ],
      "metadata": {
        "id": "t27r6nlMphqO"
      }
    },
    {
      "cell_type": "markdown",
      "source": [
        "In this chart,we have seen market segment by which hotel was booked"
      ],
      "metadata": {
        "id": "iv6ro40sphqO"
      }
    },
    {
      "cell_type": "markdown",
      "source": [
        "##### 2. What is/are the insight(s) found from the chart?"
      ],
      "metadata": {
        "id": "r2jJGEOYphqO"
      }
    },
    {
      "cell_type": "markdown",
      "source": [
        "Online TA has been used most frequently to book hotel by guest"
      ],
      "metadata": {
        "id": "Po6ZPi4hphqO"
      }
    },
    {
      "cell_type": "markdown",
      "source": [
        "##### 3. Will the gained insights help creating a positive business impact?\n",
        "Are there any insights that lead to negative growth? Justify with specific reason."
      ],
      "metadata": {
        "id": "b0JNsNcRphqO"
      }
    },
    {
      "cell_type": "markdown",
      "source": [
        "Yes,its creating posiitve buisness impact that guests are using online TA market segment as most preferred to book hotels"
      ],
      "metadata": {
        "id": "xvSq8iUTphqO"
      }
    },
    {
      "cell_type": "markdown",
      "source": [
        "#### Chart - 8"
      ],
      "metadata": {
        "id": "BZR9WyysphqO"
      }
    },
    {
      "cell_type": "code",
      "source": [
        "# Chart - 8 visualization code\n",
        "guest_country_wise=pd.DataFrame(hotel_booking_df[['country','total_guest']])\n",
        "guest_country_wise_df=guest_country_wise.groupby(['country'])['total_guest'].sum()\n",
        "guest_country_wise_df.sort_values(ascending=False,inplace=True)\n",
        "top_10_country_guest=guest_country_wise_df.head(10)\n",
        "plt.figure(figsize=(12,6))\n",
        "sns.barplot(x=top_10_country_guest.index,y=top_10_country_guest).set(title='Top 10 Countries by guest')\n",
        "print('\\n\\nPRI-Portugal\\nGBR-Great Britain & Northern Ireland\\nFRA-France\\nESP-Spain\\nDEU-Germany\\nITA-Italy\\nIRL-Ireland\\nBRA-Brazil\\nBEL-Belgium\\nNLD-Netherland')"
      ],
      "metadata": {
        "id": "TdPTWpAVphqO"
      },
      "execution_count": null,
      "outputs": []
    },
    {
      "cell_type": "markdown",
      "source": [
        "##### 1. Why did you pick the specific chart?"
      ],
      "metadata": {
        "id": "jj7wYXLtphqO"
      }
    },
    {
      "cell_type": "markdown",
      "source": [
        "Chart of top 10 nations is displayed"
      ],
      "metadata": {
        "id": "Ob8u6rCTphqO"
      }
    },
    {
      "cell_type": "markdown",
      "source": [
        "##### 2. What is/are the insight(s) found from the chart?"
      ],
      "metadata": {
        "id": "eZrbJ2SmphqO"
      }
    },
    {
      "cell_type": "markdown",
      "source": [
        "As we can see, the majority of visitord are from Portugal"
      ],
      "metadata": {
        "id": "mZtgC_hjphqO"
      }
    },
    {
      "cell_type": "markdown",
      "source": [
        "##### 3. Will the gained insights help creating a positive business impact?\n",
        "Are there any insights that lead to negative growth? Justify with specific reason."
      ],
      "metadata": {
        "id": "rFu4xreNphqO"
      }
    },
    {
      "cell_type": "markdown",
      "source": [
        "To increase the number of customers,we can increase our marketing efforts and provide enticing deals to visitors from Portugal"
      ],
      "metadata": {
        "id": "ey_0qi68phqO"
      }
    },
    {
      "cell_type": "markdown",
      "source": [
        "#### Chart - 9"
      ],
      "metadata": {
        "id": "YJ55k-q6phqO"
      }
    },
    {
      "cell_type": "code",
      "source": [
        "# Chart - 9 visualization code\n",
        "average_adr=hotel_booking_df.groupby('hotel')['adr'].mean()\n",
        "average_adr\n",
        "plt.subplots(figsize=(8,5))\n",
        "average_adr.plot(kind='barh',color=['g','r'])\n",
        "plt.xlabel('Average ADR',fontdict={'fontsize':12,'fontweight':5,'color':'brown'})\n",
        "plt.ylabel('Hotel Name',fontdict={'fontsize':12,'fontweight':5,'color':'brown'})\n",
        "plt.title('Average ADR of Hotel',fontdict={'fontsize':12,'fontweight':5,'color':'Green'})\n"
      ],
      "metadata": {
        "id": "B2aS4O1ophqO"
      },
      "execution_count": null,
      "outputs": []
    },
    {
      "cell_type": "markdown",
      "source": [
        "##### 1. Why did you pick the specific chart?"
      ],
      "metadata": {
        "id": "gCFgpxoyphqP"
      }
    },
    {
      "cell_type": "markdown",
      "source": [
        "Here, bar graph is used to compare revenue for different hotels"
      ],
      "metadata": {
        "id": "TVxDimi2phqP"
      }
    },
    {
      "cell_type": "markdown",
      "source": [
        "##### 2. What is/are the insight(s) found from the chart?"
      ],
      "metadata": {
        "id": "OVtJsKN_phqQ"
      }
    },
    {
      "cell_type": "markdown",
      "source": [
        "The bar plot has hotel names on x-axis and corresponding total revenue value on y-axis."
      ],
      "metadata": {
        "id": "ngGi97qjphqQ"
      }
    },
    {
      "cell_type": "markdown",
      "source": [
        "##### 3. Will the gained insights help creating a positive business impact?\n",
        "Are there any insights that lead to negative growth? Justify with specific reason."
      ],
      "metadata": {
        "id": "lssrdh5qphqQ"
      }
    },
    {
      "cell_type": "markdown",
      "source": [
        "The impact is positive.The Average  ADR of City Hotel is more than Resort Hotel."
      ],
      "metadata": {
        "id": "tBpY5ekJphqQ"
      }
    },
    {
      "cell_type": "markdown",
      "source": [
        "#### Chart - 10"
      ],
      "metadata": {
        "id": "U2RJ9gkRphqQ"
      }
    },
    {
      "cell_type": "code",
      "source": [
        "# Chart - 10 visualization code\n",
        "plt.figure(figsize=(8,5))\n",
        "hotel_wise_revenue=hotel_booking_df.groupby('hotel')['revenue'].sum()\n",
        "hotel_wise_total_revenueax=hotel_wise_revenue.plot(kind='bar',color=['black','g'])\n",
        "plt.xlabel('Hotel',fontdict={'fontsize':12,'fontweight':5,'color':'brown'})\n",
        "plt.ylabel('Total Revenue',fontdict={'fontsize':12,'fontweight':5,'color':'brown'})\n",
        "plt.title('Total Revenue of Hotel',fontdict={'fontsize':12,'fontweight':5,'color':'Green'})"
      ],
      "metadata": {
        "id": "GM7a4YP4phqQ"
      },
      "execution_count": null,
      "outputs": []
    },
    {
      "cell_type": "markdown",
      "source": [
        "##### 1. Why did you pick the specific chart?"
      ],
      "metadata": {
        "id": "1M8mcRywphqQ"
      }
    },
    {
      "cell_type": "markdown",
      "source": [
        "To see which Hotel has highest Total Revenue"
      ],
      "metadata": {
        "id": "8agQvks0phqQ"
      }
    },
    {
      "cell_type": "markdown",
      "source": [
        "##### 2. What is/are the insight(s) found from the chart?"
      ],
      "metadata": {
        "id": "tgIPom80phqQ"
      }
    },
    {
      "cell_type": "markdown",
      "source": [
        "The Total Revenue of City Hotel is more then that of Resort Hotel"
      ],
      "metadata": {
        "id": "Qp13pnNzphqQ"
      }
    },
    {
      "cell_type": "markdown",
      "source": [
        "##### 3. Will the gained insights help creating a positive business impact?\n",
        "Are there any insights that lead to negative growth? Justify with specific reason."
      ],
      "metadata": {
        "id": "JMzcOPDDphqR"
      }
    },
    {
      "cell_type": "markdown",
      "source": [
        "Yes ,it has positive impact.\n",
        "\n",
        "The Resort Hotel should need to know what all facilities are provided by City Hotel inorder to increase Total Revenue as the total revenue is highest for City Hotel"
      ],
      "metadata": {
        "id": "R4Ka1PC2phqR"
      }
    },
    {
      "cell_type": "markdown",
      "source": [
        "#### Chart - 11"
      ],
      "metadata": {
        "id": "x-EpHcCOp1ci"
      }
    },
    {
      "cell_type": "code",
      "source": [
        "# Chart - 11 visualization code\n",
        "plt.figure(figsize = (10,5))\n",
        "sns.scatterplot(y = 'total_stay_in_nights', x = 'adr', data = hotel_booking_df[hotel_booking_df['adr'] < 1000])\n",
        "plt.show()"
      ],
      "metadata": {
        "id": "mAQTIvtqp1cj"
      },
      "execution_count": null,
      "outputs": []
    },
    {
      "cell_type": "markdown",
      "source": [
        "##### 1. Why did you pick the specific chart?"
      ],
      "metadata": {
        "id": "X_VqEhTip1ck"
      }
    },
    {
      "cell_type": "markdown",
      "source": [
        "To visualize corelation between adr and total stays at night."
      ],
      "metadata": {
        "id": "-vsMzt_np1ck"
      }
    },
    {
      "cell_type": "markdown",
      "source": [
        "##### 2. What is/are the insight(s) found from the chart?"
      ],
      "metadata": {
        "id": "8zGJKyg5p1ck"
      }
    },
    {
      "cell_type": "markdown",
      "source": [
        "\n",
        "There's a  negative correlation between ADR and the total number of stays in nights. As ADR increases, the number of stays generally decreases."
      ],
      "metadata": {
        "id": "ZYdMsrqVp1ck"
      }
    },
    {
      "cell_type": "markdown",
      "source": [
        "##### 3. Will the gained insights help creating a positive business impact?\n",
        "Are there any insights that lead to negative growth? Justify with specific reason."
      ],
      "metadata": {
        "id": "PVzmfK_Ep1ck"
      }
    },
    {
      "cell_type": "markdown",
      "source": [
        "Yes it has positive imapact:Use the negative correlation between ADR and stay length to offer discounts for extended stays, increasing overall revenue."
      ],
      "metadata": {
        "id": "druuKYZpp1ck"
      }
    },
    {
      "cell_type": "markdown",
      "source": [
        "#### Chart - 12"
      ],
      "metadata": {
        "id": "n3dbpmDWp1ck"
      }
    },
    {
      "cell_type": "code",
      "source": [
        "# Chart - 12 visualization code\n",
        "plt.figure(figsize=(12,10),dpi=100)\n",
        "hotel_wise_meal=hotel_booking_df.groupby(['hotel','meal'])['meal'].count().unstack()\n",
        "hotel_wise_meal.plot(kind='bar',figsize=(12,8))\n",
        "hotel_wise_meal"
      ],
      "metadata": {
        "id": "bwevp1tKp1ck"
      },
      "execution_count": null,
      "outputs": []
    },
    {
      "cell_type": "markdown",
      "source": [
        "##### 1. Why did you pick the specific chart?"
      ],
      "metadata": {
        "id": "ylSl6qgtp1ck"
      }
    },
    {
      "cell_type": "markdown",
      "source": [
        "To display visitor's preferred dinning experience hotel-wise"
      ],
      "metadata": {
        "id": "m2xqNkiQp1ck"
      }
    },
    {
      "cell_type": "markdown",
      "source": [
        "##### 2. What is/are the insight(s) found from the chart?"
      ],
      "metadata": {
        "id": "ZWILFDl5p1ck"
      }
    },
    {
      "cell_type": "markdown",
      "source": [
        "Guests in both hotels prefer Bed and Breakfast(BB) meal."
      ],
      "metadata": {
        "id": "x-lUsV2mp1ck"
      }
    },
    {
      "cell_type": "markdown",
      "source": [
        "##### 3. Will the gained insights help creating a positive business impact?\n",
        "Are there any insights that lead to negative growth? Justify with specific reason."
      ],
      "metadata": {
        "id": "M7G43BXep1ck"
      }
    },
    {
      "cell_type": "markdown",
      "source": [
        "In order to increase customer retention and draw in new customers the hotel can serve more delicious meals during dinner"
      ],
      "metadata": {
        "id": "5wwDJXsLp1cl"
      }
    },
    {
      "cell_type": "markdown",
      "source": [
        "#### Chart - 13"
      ],
      "metadata": {
        "id": "Ag9LCva-p1cl"
      }
    },
    {
      "cell_type": "code",
      "source": [
        "# Chart - 13 visualization code\n",
        "waiting_bookings = hotel_booking_df[hotel_booking_df['days_in_waiting_list'] !=0]\n",
        "\n",
        "fig, axes = plt.subplots(1, 2, figsize=(18, 8))\n",
        "sns.kdeplot(ax=axes[0],x = 'days_in_waiting_list', hue = 'is_canceled' , data = waiting_bookings)\n",
        "sns.kdeplot(ax = axes[1], x = hotel_booking_df['lead_time'], hue = hotel_booking_df['is_canceled'])\n",
        "plt.show()\n"
      ],
      "metadata": {
        "id": "EUfxeq9-p1cl"
      },
      "execution_count": null,
      "outputs": []
    },
    {
      "cell_type": "markdown",
      "source": [
        "##### 1. Why did you pick the specific chart?"
      ],
      "metadata": {
        "id": "E6MkPsBcp1cl"
      }
    },
    {
      "cell_type": "markdown",
      "source": [
        "It visually compares how \"days in the waiting list\" and \"lead time\" differ between canceled and non-canceled bookings"
      ],
      "metadata": {
        "id": "V22bRsFWp1cl"
      }
    },
    {
      "cell_type": "markdown",
      "source": [
        "##### 2. What is/are the insight(s) found from the chart?"
      ],
      "metadata": {
        "id": "2cELzS2fp1cl"
      }
    },
    {
      "cell_type": "markdown",
      "source": [
        "These insights suggest that bookings with shorter lead times and shorter waiting list periods are more prone to cancellation."
      ],
      "metadata": {
        "id": "ozQPc2_Ip1cl"
      }
    },
    {
      "cell_type": "markdown",
      "source": [
        "##### 3. Will the gained insights help creating a positive business impact?\n",
        "Are there any insights that lead to negative growth? Justify with specific reason."
      ],
      "metadata": {
        "id": "3MPXvC8up1cl"
      }
    },
    {
      "cell_type": "markdown",
      "source": [
        "The insights gained are valuable for improving booking strategies, reducing cancellations, and optimizing resource allocation. However, careful consideration is needed to avoid over-reliance on last-minute bookings and to ensure customer-friendly policies that do not discourage bookings."
      ],
      "metadata": {
        "id": "GL8l1tdLp1cl"
      }
    },
    {
      "cell_type": "markdown",
      "source": [
        "#### Chart - 14 - Correlation Heatmap"
      ],
      "metadata": {
        "id": "NC_X3p0fY2L0"
      }
    },
    {
      "cell_type": "code",
      "source": [
        "# Correlation Heatmap visualization code\n",
        "corr_df=hotel_booking_df[['lead_time','previous_cancellations','previous_bookings_not_canceled','total_guest','booking_changes','days_in_waiting_list','adr','required_car_parking_spaces','total_of_special_requests']]\n",
        "f,ax=plt.subplots(figsize=(10,6))\n",
        "sns.heatmap(corr_df.corr(),annot=True,fmt='.1f',annot_kws={'size':10},vmax=1,square=True,cmap='YlGnBu')"
      ],
      "metadata": {
        "id": "xyC9zolEZNRQ"
      },
      "execution_count": null,
      "outputs": []
    },
    {
      "cell_type": "markdown",
      "source": [
        "##### 1. Why did you pick the specific chart?"
      ],
      "metadata": {
        "id": "UV0SzAkaZNRQ"
      }
    },
    {
      "cell_type": "markdown",
      "source": [
        "To comprehend the relationships among various numerical quantities"
      ],
      "metadata": {
        "id": "DVPuT8LYZNRQ"
      }
    },
    {
      "cell_type": "markdown",
      "source": [
        "##### 2. What is/are the insight(s) found from the chart?"
      ],
      "metadata": {
        "id": "YPEH6qLeZNRQ"
      }
    },
    {
      "cell_type": "markdown",
      "source": [
        "The axis's highest corelation value is 39% positive and its lowest corelation value is -9% negative"
      ],
      "metadata": {
        "id": "bfSqtnDqZNRR"
      }
    },
    {
      "cell_type": "markdown",
      "source": [
        "#### Chart - 15 - Pair Plot"
      ],
      "metadata": {
        "id": "q29F0dvdveiT"
      }
    },
    {
      "cell_type": "code",
      "source": [
        "# Pair Plot visualization code\n",
        "columns_to_plot = ['lead_time', 'stays_in_weekend_nights', 'stays_in_week_nights',\n",
        "                   'adults', 'children', 'babies', 'adr', 'total_of_special_requests']\n",
        "\n",
        "sns.pairplot(hotel_booking_df[columns_to_plot])\n",
        "\n",
        "plt.show()"
      ],
      "metadata": {
        "id": "o58-TEIhveiU"
      },
      "execution_count": null,
      "outputs": []
    },
    {
      "cell_type": "markdown",
      "source": [
        "##### 1. Why did you pick the specific chart?"
      ],
      "metadata": {
        "id": "EXh0U9oCveiU"
      }
    },
    {
      "cell_type": "markdown",
      "source": [
        "This specific chart could be useful if you want to explore how variables such as lead time, stays in weekend nights, stays in week nights, adults, children, babies, etc., relate to each other in a dataset, possibly related to hotel bookings."
      ],
      "metadata": {
        "id": "eMmPjTByveiU"
      }
    },
    {
      "cell_type": "markdown",
      "source": [
        "##### 2. What is/are the insight(s) found from the chart?"
      ],
      "metadata": {
        "id": "22aHeOlLveiV"
      }
    },
    {
      "cell_type": "markdown",
      "source": [
        "No strong correlation between lead time and stay duration.\n",
        "\n",
        "Majority of bookings are for adults-only groups, with few involving children or babies.\n",
        "\n",
        "Special requests are more common in bookings with more adults or longer stays.\n"
      ],
      "metadata": {
        "id": "uPQ8RGwHveiV"
      }
    },
    {
      "cell_type": "markdown",
      "source": [
        "## **5. Solution to Business Objective**"
      ],
      "metadata": {
        "id": "JcMwzZxoAimU"
      }
    },
    {
      "cell_type": "markdown",
      "source": [
        "#### What do you suggest the client to achieve Business Objective ?\n"
      ],
      "metadata": {
        "id": "8G2x9gOozGDZ"
      }
    },
    {
      "cell_type": "markdown",
      "source": [
        "The following business aim was met:\n",
        "\n",
        "1. In order for the hotel industry to prosper, a few factors must be taken into account, including high revenue generation, customer happiness, and employee retention.\n",
        "\n",
        "2. By using a pie chart distribution, we can demonstrate to the client which months generate the most money.\n",
        "\n",
        "3. Increasing revenue by using a bar chart to show which types of rooms are most frequently booked and when visitors are most likely to travel.\n",
        "\n",
        "4. As a result, the customer can be properly prepared in advance, minimising long-term complaints and contributing to further improvement\n",
        "\n",
        "of their hospitality.\n",
        "\n",
        "5. To encourage clients to contact offices for bulk reservations during the off-season, outliers such as larger visitor numbers than average were sprinkled across the plot. This helped generate more money.\n",
        "\n",
        "6. We can display the visitor arrivals trend at client venues, allowing clients to schedule visitors in advance for their entertainment and leisure activities.\n",
        "\n",
        "7. In order for the percentages underneath those numbers to be improved by a variety of mediums, we were also able to correlate the values Indicating the maximum and minimum % between them."
      ],
      "metadata": {
        "id": "pASKb0qOza21"
      }
    },
    {
      "cell_type": "markdown",
      "source": [
        "# **Conclusion**"
      ],
      "metadata": {
        "id": "gCX9965dhzqZ"
      }
    },
    {
      "cell_type": "markdown",
      "source": [
        "1. City Hotel generates greater Income and profit and appears to be more popular among travellers.\n",
        "\n",
        "2. Compared to the other months, the majority of reservations are made in July and August.\n",
        "\n",
        "3. Travellers favour accommodation Type A over all other accommodation types.\n",
        "\n",
        "4. Portugal and the United Kingdom make the most reservations.\n",
        "\n",
        "5. The majority of visitors stay in hotels for 1-4 days.\n",
        "\n",
        "6. The City Hotel keeps a larger number of visitors.\n",
        "\n",
        "7. About one-fourth of all reservations are cancelled. City Hotel is the source of more cancellations.\n",
        "\n",
        "8. Compared to returning consumers, new guests frequently cancel reservations.\n",
        "\n",
        "9. Booking cancellations are unaffected by lead time, waiting list length, or client assignment of a reserved room.\n",
        "\n",
        "10. Corporate has the most percentage of repeated guests while TA/TO has the least whereas in the case of cancelled bookings TA/TO has the most percentage while Corporate has the least.\n",
        "\n",
        "11. The length of the stay decreases as ADR increases probably to reduce the cost."
      ],
      "metadata": {
        "id": "Fjb1IsQkh3yE"
      }
    },
    {
      "cell_type": "markdown",
      "source": [
        "### ***Hurrah! You have successfully completed your EDA Capstone Project !!!***"
      ],
      "metadata": {
        "id": "gIfDvo9L0UH2"
      }
    }
  ]
}